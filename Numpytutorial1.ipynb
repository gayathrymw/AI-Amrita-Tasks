{
 "cells": [
  {
   "cell_type": "code",
   "execution_count": 1,
   "id": "0ab0d1b1",
   "metadata": {},
   "outputs": [],
   "source": [
    "import numpy as np"
   ]
  },
  {
   "cell_type": "markdown",
   "id": "2c3e2a25",
   "metadata": {},
   "source": [
    "Creating array of datatype integer"
   ]
  },
  {
   "cell_type": "code",
   "execution_count": 3,
   "id": "6c9e5d5f",
   "metadata": {},
   "outputs": [
    {
     "name": "stdout",
     "output_type": "stream",
     "text": [
      "[1 2 3]\n"
     ]
    }
   ],
   "source": [
    "array = np.array([1,2,3], dtype='int32')\n",
    "print(array)"
   ]
  },
  {
   "cell_type": "markdown",
   "id": "92b0ef54",
   "metadata": {},
   "source": [
    "To check shape and datatype"
   ]
  },
  {
   "cell_type": "code",
   "execution_count": 4,
   "id": "e7d585f5",
   "metadata": {},
   "outputs": [
    {
     "name": "stdout",
     "output_type": "stream",
     "text": [
      "(3,)\n",
      "int32\n"
     ]
    }
   ],
   "source": [
    "print(array.shape)\n",
    "print(array.dtype)"
   ]
  },
  {
   "cell_type": "code",
   "execution_count": 40,
   "id": "36eaff9d",
   "metadata": {},
   "outputs": [
    {
     "name": "stdout",
     "output_type": "stream",
     "text": [
      "[[ 1.    2.    3.5 ]\n",
      " [-2.   13.    1.05]]\n"
     ]
    }
   ],
   "source": [
    "a = np.array([(1,2,3.5),(-2,13,1.05)])\n",
    "print(a)"
   ]
  },
  {
   "cell_type": "markdown",
   "id": "86780261",
   "metadata": {},
   "source": [
    "Getting specific element"
   ]
  },
  {
   "cell_type": "code",
   "execution_count": 45,
   "id": "f3da219f",
   "metadata": {},
   "outputs": [
    {
     "name": "stdout",
     "output_type": "stream",
     "text": [
      "3.5\n"
     ]
    }
   ],
   "source": [
    "print(a[0, 2]) #first row, third element"
   ]
  },
  {
   "cell_type": "markdown",
   "id": "d37533f3",
   "metadata": {},
   "source": [
    "Getting specific row"
   ]
  },
  {
   "cell_type": "code",
   "execution_count": 42,
   "id": "57edb01d",
   "metadata": {},
   "outputs": [
    {
     "name": "stdout",
     "output_type": "stream",
     "text": [
      "[-2.   13.    1.05]\n"
     ]
    }
   ],
   "source": [
    "r=a[1, :] #second row\n",
    "print(r)"
   ]
  },
  {
   "cell_type": "markdown",
   "id": "514124d4",
   "metadata": {},
   "source": [
    "Getting specific column"
   ]
  },
  {
   "cell_type": "code",
   "execution_count": 43,
   "id": "c18acb9e",
   "metadata": {},
   "outputs": [
    {
     "name": "stdout",
     "output_type": "stream",
     "text": [
      "[3.5  1.05]\n"
     ]
    }
   ],
   "source": [
    "c=a[:, 2] #third column\n",
    "print(c)"
   ]
  },
  {
   "cell_type": "code",
   "execution_count": 44,
   "id": "38a2c50b",
   "metadata": {},
   "outputs": [
    {
     "name": "stdout",
     "output_type": "stream",
     "text": [
      "[-2. 13.]\n"
     ]
    }
   ],
   "source": [
    "print(a[1, :2]) # Second Row, two values"
   ]
  },
  {
   "cell_type": "markdown",
   "id": "d207dd9b",
   "metadata": {},
   "source": [
    "Changing data"
   ]
  },
  {
   "cell_type": "code",
   "execution_count": 17,
   "id": "63c9e0c3",
   "metadata": {},
   "outputs": [
    {
     "name": "stdout",
     "output_type": "stream",
     "text": [
      "[[11.  2.  1.]\n",
      " [12. -2.  2.]]\n"
     ]
    }
   ],
   "source": [
    "a[1,1] = -2\n",
    "\n",
    "a[:,0] = [11,12]\n",
    "print(a)"
   ]
  },
  {
   "cell_type": "markdown",
   "id": "7d1f8f65",
   "metadata": {},
   "source": [
    "3-D example"
   ]
  },
  {
   "cell_type": "code",
   "execution_count": 18,
   "id": "f71b1b3a",
   "metadata": {},
   "outputs": [
    {
     "name": "stdout",
     "output_type": "stream",
     "text": [
      "(3, 2, 3)\n",
      "[[[  1   3  11]\n",
      "  [  5   0   7]]\n",
      "\n",
      " [[ 10   8   9]\n",
      "  [ 10 -11   2]]\n",
      "\n",
      " [[ 13   5   9]\n",
      "  [ 10  21   1]]]\n",
      "(2, 2, 2)\n",
      "[[[1 2]\n",
      "  [3 4]]\n",
      "\n",
      " [[5 6]\n",
      "  [7 8]]]\n"
     ]
    }
   ],
   "source": [
    "d = np.array([[[1,3,11],[5,0,7]],[[10,8,9],[10,-11,2]],[[13,5,9],[10,21,1]]])\n",
    "\n",
    "print(d.shape) #dimension,row,column\n",
    "print(d)\n",
    "\n",
    "b = np.array([[[1,2],[3,4]],[[5,6],[7,8]]])\n",
    "\n",
    "print(b.shape)\n",
    "print(b)"
   ]
  },
  {
   "cell_type": "markdown",
   "id": "e3c03e57",
   "metadata": {},
   "source": [
    "Zeros matrix"
   ]
  },
  {
   "cell_type": "code",
   "execution_count": 25,
   "id": "a45e5fc7",
   "metadata": {},
   "outputs": [
    {
     "name": "stdout",
     "output_type": "stream",
     "text": [
      "[[[0 0 0]\n",
      "  [0 0 0]]]\n"
     ]
    }
   ],
   "source": [
    "z=np.zeros((1,2,3),dtype='int32')\n",
    "print(z)"
   ]
  },
  {
   "cell_type": "markdown",
   "id": "b123eb14",
   "metadata": {},
   "source": [
    "Ones matrix"
   ]
  },
  {
   "cell_type": "code",
   "execution_count": 26,
   "id": "15d9471c",
   "metadata": {},
   "outputs": [
    {
     "name": "stdout",
     "output_type": "stream",
     "text": [
      "[[[1 1 1]\n",
      "  [1 1 1]]\n",
      "\n",
      " [[1 1 1]\n",
      "  [1 1 1]]]\n"
     ]
    }
   ],
   "source": [
    "o=np.ones((2,2,3),dtype='int32')\n",
    "print(o)"
   ]
  },
  {
   "cell_type": "markdown",
   "id": "70448b19",
   "metadata": {},
   "source": [
    "Random Matrix(int values)"
   ]
  },
  {
   "cell_type": "code",
   "execution_count": 28,
   "id": "866b113a",
   "metadata": {},
   "outputs": [
    {
     "name": "stdout",
     "output_type": "stream",
     "text": [
      "[[ -6 -10   4]\n",
      " [  8   0 -10]\n",
      " [ -8   9  -6]\n",
      " [ -2   0  -8]]\n"
     ]
    }
   ],
   "source": [
    "r=np.random.randint(-10,10, size=(4,3))\n",
    "print(r)"
   ]
  },
  {
   "cell_type": "markdown",
   "id": "4558265a",
   "metadata": {},
   "source": [
    "Copying arrays"
   ]
  },
  {
   "cell_type": "code",
   "execution_count": 30,
   "id": "a66a582e",
   "metadata": {},
   "outputs": [
    {
     "name": "stdout",
     "output_type": "stream",
     "text": [
      "[1 2 3]\n",
      "[10  2  3]\n"
     ]
    }
   ],
   "source": [
    "a = np.array([1,2,3])\n",
    "c = a.copy()\n",
    "c[0] = 10\n",
    "\n",
    "print(a)\n",
    "print(c)"
   ]
  },
  {
   "cell_type": "markdown",
   "id": "10923556",
   "metadata": {},
   "source": [
    "Reshaping"
   ]
  },
  {
   "cell_type": "code",
   "execution_count": 31,
   "id": "b243742a",
   "metadata": {},
   "outputs": [
    {
     "name": "stdout",
     "output_type": "stream",
     "text": [
      "[[1 2 3]\n",
      " [4 5 6]]\n",
      "[[1 2]\n",
      " [3 4]\n",
      " [5 6]]\n"
     ]
    }
   ],
   "source": [
    "r = np.array([(1,2,3),(4,5,6)]) #2 rows 3 columns\n",
    "print(r)\n",
    "r=r.reshape(3,2) #3 rows 2 columns\n",
    "print(r)"
   ]
  },
  {
   "cell_type": "markdown",
   "id": "869cd67e",
   "metadata": {},
   "source": [
    "Array object containing evenly spaced values within a defined interval."
   ]
  },
  {
   "cell_type": "code",
   "execution_count": 32,
   "id": "d38fb07a",
   "metadata": {},
   "outputs": [
    {
     "name": "stdout",
     "output_type": "stream",
     "text": [
      "[1 2 3 4]\n",
      "[ 1  6 11 16]\n"
     ]
    }
   ],
   "source": [
    "a=np.arange(1,5)#default step value 1\n",
    "b=np.arange(1,20,5)\n",
    "\n",
    "print(a)\n",
    "print(b)"
   ]
  },
  {
   "cell_type": "markdown",
   "id": "5deec6cb",
   "metadata": {},
   "source": [
    "Linspace gives evenly spaced samples."
   ]
  },
  {
   "cell_type": "code",
   "execution_count": 37,
   "id": "a1bc75f2",
   "metadata": {},
   "outputs": [
    {
     "name": "stdout",
     "output_type": "stream",
     "text": [
      "[ 1.          3.57894737  6.15789474  8.73684211 11.31578947 13.89473684\n",
      " 16.47368421 19.05263158 21.63157895 24.21052632 26.78947368 29.36842105\n",
      " 31.94736842 34.52631579 37.10526316 39.68421053 42.26315789 44.84210526\n",
      " 47.42105263 50.        ]\n"
     ]
    }
   ],
   "source": [
    "l=np.linspace(1.0,50.0, num=20)\n",
    "print(l)"
   ]
  },
  {
   "cell_type": "code",
   "execution_count": 48,
   "id": "0f6240c1",
   "metadata": {},
   "outputs": [
    {
     "name": "stdout",
     "output_type": "stream",
     "text": [
      "1.5\n",
      "5.2\n",
      "3.54\n",
      "3.4\n",
      "1.3184839779079607\n"
     ]
    }
   ],
   "source": [
    "a = np.array([1.5,2.9,3.4,4.7,5.2])\n",
    "\n",
    "print(np.min(a)) #minimum\n",
    "print(np.max(a)) #maximum\n",
    "print(np.mean(a)) #mean value\n",
    "print(np.median(a)) #median\n",
    "print(np.std(a)) #standard deviation\n"
   ]
  },
  {
   "cell_type": "code",
   "execution_count": 49,
   "id": "98e5d163",
   "metadata": {},
   "outputs": [
    {
     "name": "stdout",
     "output_type": "stream",
     "text": [
      "[3.5 4.9 5.4 6.7 7.2]\n",
      "[-0.5  0.9  1.4  2.7  3.2]\n",
      "[0.75 1.45 1.7  2.35 2.6 ]\n",
      "[ 3.   5.8  6.8  9.4 10.4]\n",
      "[11.6  2.9 11.3  5.7 11.1]\n"
     ]
    }
   ],
   "source": [
    "print(a+2)\n",
    "print(a-2)\n",
    "print(a/2)\n",
    "print(a*2)\n",
    "\n",
    "b = np.array([10.1,0,7.9,1,5.9])\n",
    "print(a+b)"
   ]
  },
  {
   "cell_type": "markdown",
   "id": "b948cad2",
   "metadata": {},
   "source": [
    "Dot product"
   ]
  },
  {
   "cell_type": "code",
   "execution_count": 51,
   "id": "0b61a230",
   "metadata": {},
   "outputs": [
    {
     "name": "stdout",
     "output_type": "stream",
     "text": [
      "11\n"
     ]
    }
   ],
   "source": [
    "f = np.array([1,2])\n",
    "g = np.array([3,4])\n",
    "print(np.dot(f, g))"
   ]
  },
  {
   "cell_type": "markdown",
   "id": "f400d692",
   "metadata": {},
   "source": [
    "Mtrix Multiplication"
   ]
  },
  {
   "cell_type": "code",
   "execution_count": 53,
   "id": "4a765b7b",
   "metadata": {},
   "outputs": [
    {
     "name": "stdout",
     "output_type": "stream",
     "text": [
      "[[17 20]\n",
      " [57 68]]\n"
     ]
    }
   ],
   "source": [
    "h = [[1,2],[5,6]] \n",
    "i = [[3,4],[7,8]] \n",
    "print(np.matmul(h, i))"
   ]
  },
  {
   "cell_type": "markdown",
   "id": "e6bf677d",
   "metadata": {},
   "source": [
    "Inverse of matrix"
   ]
  },
  {
   "cell_type": "code",
   "execution_count": 55,
   "id": "06ad2ab8",
   "metadata": {},
   "outputs": [
    {
     "name": "stdout",
     "output_type": "stream",
     "text": [
      "[[-0.07865169 -0.07865169  0.06741573]\n",
      " [ 0.60674157  0.10674157 -0.16292135]\n",
      " [ 0.02247191  0.02247191  0.12359551]]\n",
      "177.99999999999997\n"
     ]
    }
   ],
   "source": [
    "a = np.array([[3, 2, 1],\n",
    "              [-14, -2, 5],\n",
    "              [2, 0, 7]])\n",
    "  \n",
    "print(np.linalg.inv(a))\n",
    "print(np.linalg.det(a))"
   ]
  },
  {
   "cell_type": "markdown",
   "id": "528cf58f",
   "metadata": {},
   "source": [
    "Rank of matrix"
   ]
  },
  {
   "cell_type": "code",
   "execution_count": 56,
   "id": "2f63e9e2",
   "metadata": {},
   "outputs": [
    {
     "name": "stdout",
     "output_type": "stream",
     "text": [
      "3\n"
     ]
    }
   ],
   "source": [
    "r = np.array([[0,0,1],[2,1,1],[4,5,4]])\n",
    "print(np.linalg.matrix_rank(r))"
   ]
  },
  {
   "cell_type": "markdown",
   "id": "34b2c303",
   "metadata": {},
   "source": [
    "Eigenvector and Eigenvalues"
   ]
  },
  {
   "cell_type": "code",
   "execution_count": 60,
   "id": "789a5852",
   "metadata": {},
   "outputs": [
    {
     "name": "stdout",
     "output_type": "stream",
     "text": [
      "[ 4.00000000e+00+0.00000000e+00j -2.00000000e+00+0.00000000e+00j\n",
      "  6.21869165e-16+2.34835113e-16j  6.21869165e-16-2.34835113e-16j] [[ 0.20306923+0.j          0.5       +0.j         -0.29428964-0.14608249j\n",
      "  -0.29428964+0.14608249j]\n",
      " [-0.50767308+0.j         -0.5       +0.j          0.65460452+0.j\n",
      "   0.65460452-0.j        ]\n",
      " [ 0.81227693+0.j          0.5       +0.j         -0.42634011+0.43824746j\n",
      "  -0.42634011-0.43824746j]\n",
      " [-0.20306923+0.j         -0.5       +0.j          0.06602523-0.29216498j\n",
      "   0.06602523+0.29216498j]]\n"
     ]
    }
   ],
   "source": [
    "e = np.array([[1,2,3,4],[-5,-6,-7,-8],[9,10,11,12],[-1,-2,-3,-4]])\n",
    "va, ve = np.linalg.eig(e)\n",
    "print(va,ve)"
   ]
  }
 ],
 "metadata": {
  "kernelspec": {
   "display_name": "Python 3",
   "language": "python",
   "name": "python3"
  },
  "language_info": {
   "codemirror_mode": {
    "name": "ipython",
    "version": 3
   },
   "file_extension": ".py",
   "mimetype": "text/x-python",
   "name": "python",
   "nbconvert_exporter": "python",
   "pygments_lexer": "ipython3",
   "version": "3.8.8"
  }
 },
 "nbformat": 4,
 "nbformat_minor": 5
}
